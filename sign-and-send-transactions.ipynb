{
 "cells": [
  {
   "cell_type": "markdown",
   "id": "8617faab",
   "metadata": {},
   "source": [
    "# How to Sign and Send Transactions on Terra"
   ]
  },
  {
   "cell_type": "code",
   "execution_count": null,
   "id": "f73fe0fd",
   "metadata": {},
   "outputs": [],
   "source": [
    "from terra_sdk.core.bank import MultiSendInput, MultiSendOutput, MsgMultiSend, MsgSend\n",
    "from terra_sdk.client.lcd.api.tx import CreateTxOptions\n",
    "from terra_sdk.client.localterra import LocalTerra\n",
    "from terra_sdk.key.mnemonic import MnemonicKey\n",
    "from terra_sdk.client.lcd import LCDClient\n",
    "from terra_sdk.core import Coins, Coin\n",
    "import requests, json"
   ]
  },
  {
   "cell_type": "markdown",
   "id": "988a6cd1",
   "metadata": {},
   "source": [
    "### Initialize Client & Wallet\n",
    "\n",
    "**Note:** _Only uncomment the code block which corresponds to the network on which you would like to carry out transactions and comment out the other code blocks. In this notebook, LocalTerra is used by default and is the recommended network to use for testing purposes._"
   ]
  },
  {
   "cell_type": "markdown",
   "id": "4e0c3e85",
   "metadata": {},
   "source": [
    "##### LocalTerra"
   ]
  },
  {
   "cell_type": "code",
   "execution_count": null,
   "id": "6e3faac5",
   "metadata": {},
   "outputs": [],
   "source": [
    "# Create client to communicate with localterra.\n",
    "terra = LocalTerra()\n",
    "\n",
    "# Initialize preconfigured test wallet.\n",
    "wallet = terra.wallets[\"test1\"]"
   ]
  },
  {
   "cell_type": "markdown",
   "id": "b6dcda8b",
   "metadata": {},
   "source": [
    "##### Testnet"
   ]
  },
  {
   "cell_type": "code",
   "execution_count": null,
   "id": "7e0db4f6",
   "metadata": {},
   "outputs": [],
   "source": [
    "# # Create client to communicate with testnet.\n",
    "# terra = LCDClient(\n",
    "#     url=\"https://bombay-lcd.terra.dev/\",\n",
    "#     chain_id=\"bombay-12\"\n",
    "# )\n",
    "\n",
    "# # Initialize wallet with associated mnemonic key.\n",
    "# mk = MnemonicKey(mnemonic=\"<INSERT MNEMONIC KEY HERE>\")\n",
    "# wallet = terra.wallet(mk)"
   ]
  },
  {
   "cell_type": "markdown",
   "id": "e733c238",
   "metadata": {},
   "source": [
    "##### Mainnet"
   ]
  },
  {
   "cell_type": "code",
   "execution_count": null,
   "id": "e8c811d1",
   "metadata": {},
   "outputs": [],
   "source": [
    "# # Create client to communicate with mainnet.\n",
    "# terra = LCDClient(\n",
    "#     url=\"https://lcd.terra.dev\",\n",
    "#     chain_id=\"columbus-5\"\n",
    "# )\n",
    "\n",
    "# # Initialize wallet with associated mnemonic key.\n",
    "# mk = MnemonicKey(mnemonic=\"<INSERT MNEMONIC KEY HERE>\")\n",
    "# wallet = terra.wallet(mk)"
   ]
  },
  {
   "cell_type": "markdown",
   "id": "1e72f73e",
   "metadata": {},
   "source": [
    "### Set & View Gas Prices"
   ]
  },
  {
   "cell_type": "code",
   "execution_count": null,
   "id": "4e94fdb3",
   "metadata": {},
   "outputs": [],
   "source": [
    "# Request current gas rates for future fee estimation.\n",
    "gas_price_dict = requests.get(\"https://pisco-api.terra.dev/gas-prices\").json()\n",
    "gas_price_dict"
   ]
  },
  {
   "cell_type": "markdown",
   "id": "fdc286c0",
   "metadata": {},
   "source": [
    "---\n",
    "\n",
    "## One-to-One Wallet Transactions\n",
    "\n",
    "---"
   ]
  },
  {
   "cell_type": "markdown",
   "id": "fd7487b8",
   "metadata": {},
   "source": [
    "### Set Relevant Transaction Parameters"
   ]
  },
  {
   "cell_type": "code",
   "execution_count": null,
   "id": "e656f9ab",
   "metadata": {},
   "outputs": [],
   "source": [
    "# Initialize sender and recipient wallet addresses.\n",
    "sender_address = wallet.key.acc_address\n",
    "recipient_address = terra.wallets[\"test2\"].key.acc_address\n",
    "\n",
    "# Set relevant parameters for transaction.\n",
    "tx_options = CreateTxOptions(\n",
    "    msgs=[\n",
    "        MsgSend(\n",
    "            from_address=sender_address,\n",
    "            to_address=recipient_address,\n",
    "            amount=Coins([Coin(\"uluna\", 1000000)])\n",
    "        )\n",
    "    ],\n",
    "    gas=\"auto\",\n",
    "    gas_prices=Coins(gas_price_dict),\n",
    "    fee_denoms=\"uluna\",\n",
    "    gas_adjustment=1.5\n",
    ")"
   ]
  },
  {
   "cell_type": "markdown",
   "id": "ec75b627",
   "metadata": {},
   "source": [
    "### Create, Sign & Execute Transaction"
   ]
  },
  {
   "cell_type": "code",
   "execution_count": null,
   "id": "7cb229d2",
   "metadata": {},
   "outputs": [],
   "source": [
    "# Create and sign transaction.\n",
    "tx = wallet.create_and_sign_tx(options=tx_options)\n",
    "\n",
    "# Broadcast the request for execution to the Terra node.\n",
    "result = terra.tx.broadcast(tx)"
   ]
  },
  {
   "cell_type": "markdown",
   "id": "3131d3ec",
   "metadata": {},
   "source": [
    "### Print Transaction Information"
   ]
  },
  {
   "cell_type": "code",
   "execution_count": null,
   "id": "644b35c1",
   "metadata": {},
   "outputs": [],
   "source": [
    "# Utilize print helper function to neatly print out transaction information.\n",
    "%run helper-functions.ipynb\n",
    "print_message(result)"
   ]
  },
  {
   "cell_type": "markdown",
   "id": "a7c03599",
   "metadata": {},
   "source": [
    "---\n",
    "\n",
    "## Multisend Transactions\n",
    "\n",
    "---"
   ]
  },
  {
   "cell_type": "markdown",
   "id": "1c4eaa6c",
   "metadata": {},
   "source": [
    "### Set Relevant Transaction Parameters"
   ]
  },
  {
   "cell_type": "code",
   "execution_count": null,
   "id": "e1387a30",
   "metadata": {},
   "outputs": [],
   "source": [
    "# Initialize sender and recipient wallet addresses.\n",
    "sender_address = wallet.key.acc_address\n",
    "recipient_address = terra.wallets[\"test2\"].key.acc_address\n",
    "recipient_address2 = terra.wallets[\"test3\"].key.acc_address\n",
    "\n",
    "# Set input and output variables for multi-send message.\n",
    "multi_send_inputs = [\n",
    "    MultiSendInput(sender_address, Coins([Coin('uluna', 1000000)])),\n",
    "]\n",
    "multi_send_outputs = [\n",
    "    MultiSendOutput(recipient_address, Coins([Coin('uluna', 500000)])),\n",
    "    MultiSendOutput(recipient_address2, Coins([Coin('uluna', 500000)]))\n",
    "]\n",
    "\n",
    "# Set relevant parameters for transaction.\n",
    "tx_options = CreateTxOptions(\n",
    "    msgs=[\n",
    "        MsgMultiSend(\n",
    "            inputs=multi_send_inputs,\n",
    "            outputs=multi_send_outputs,\n",
    "        )\n",
    "    ],\n",
    "    gas='auto',\n",
    "    gas_prices=Coins(gas_price_dict),\n",
    "    fee_denoms='uluna',\n",
    "    gas_adjustment=1.5\n",
    ")"
   ]
  },
  {
   "cell_type": "markdown",
   "id": "50bc671e",
   "metadata": {},
   "source": [
    "### Create, Sign & Execute Transaction"
   ]
  },
  {
   "cell_type": "code",
   "execution_count": null,
   "id": "5442d37a",
   "metadata": {},
   "outputs": [],
   "source": [
    "# Create and sign transaction.\n",
    "tx = wallet.create_and_sign_tx(options=tx_options)\n",
    "\n",
    "# Broadcast the request for execution to the Terra node.\n",
    "result = terra.tx.broadcast(tx)"
   ]
  },
  {
   "cell_type": "markdown",
   "id": "26af03f1",
   "metadata": {},
   "source": [
    "### Print Transaction Information\n",
    "\n",
    "**Note:** _Helper functions are only available if helper-functions.ipynb are in the same directory as this Jupyter Notebook. Run from cloned repository to ensure proper function._"
   ]
  },
  {
   "cell_type": "code",
   "execution_count": null,
   "id": "7de9ae0b",
   "metadata": {},
   "outputs": [],
   "source": [
    "# Utilize print helper function to neatly print out transaction information.\n",
    "%run helper-functions.ipynb\n",
    "print_message(result)"
   ]
  },
  {
   "cell_type": "code",
   "execution_count": null,
   "id": "04228e20",
   "metadata": {},
   "outputs": [],
   "source": []
  }
 ],
 "metadata": {
  "kernelspec": {
   "display_name": "Python 3 (ipykernel)",
   "language": "python",
   "name": "python3"
  },
  "language_info": {
   "codemirror_mode": {
    "name": "ipython",
    "version": 3
   },
   "file_extension": ".py",
   "mimetype": "text/x-python",
   "name": "python",
   "nbconvert_exporter": "python",
   "pygments_lexer": "ipython3",
   "version": "3.9.12"
  }
 },
 "nbformat": 4,
 "nbformat_minor": 5
}
